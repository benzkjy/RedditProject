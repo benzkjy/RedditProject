{
 "cells": [
  {
   "cell_type": "code",
   "execution_count": 1,
   "metadata": {
    "collapsed": true
   },
   "outputs": [],
   "source": [
    "import numpy as np\n",
    "import pandas as pd\n",
    "import os\n",
    "import csv\n",
    "from random import random, sample, seed"
   ]
  },
  {
   "cell_type": "code",
   "execution_count": 2,
   "metadata": {
    "collapsed": true
   },
   "outputs": [],
   "source": [
    "df = pd.read_csv('dataset1.csv')"
   ]
  },
  {
   "cell_type": "code",
   "execution_count": 3,
   "metadata": {},
   "outputs": [
    {
     "data": {
      "text/html": [
       "<div>\n",
       "<table border=\"1\" class=\"dataframe\">\n",
       "  <thead>\n",
       "    <tr style=\"text-align: right;\">\n",
       "      <th></th>\n",
       "      <th>id</th>\n",
       "      <th>title</th>\n",
       "      <th>hour</th>\n",
       "      <th>minute</th>\n",
       "      <th>dayofweek</th>\n",
       "      <th>dayofyear</th>\n",
       "      <th>score</th>\n",
       "    </tr>\n",
       "  </thead>\n",
       "  <tbody>\n",
       "    <tr>\n",
       "      <th>0</th>\n",
       "      <td>9gx68l</td>\n",
       "      <td>Reddit, how would you feel about a law that ba...</td>\n",
       "      <td>14</td>\n",
       "      <td>1</td>\n",
       "      <td>2</td>\n",
       "      <td>261</td>\n",
       "      <td>149070</td>\n",
       "    </tr>\n",
       "    <tr>\n",
       "      <th>1</th>\n",
       "      <td>9hef7a</td>\n",
       "      <td>In a video game, if you come across an empty r...</td>\n",
       "      <td>7</td>\n",
       "      <td>17</td>\n",
       "      <td>4</td>\n",
       "      <td>263</td>\n",
       "      <td>83296</td>\n",
       "    </tr>\n",
       "    <tr>\n",
       "      <th>2</th>\n",
       "      <td>9icx7a</td>\n",
       "      <td>What is a website that everyone should know ab...</td>\n",
       "      <td>19</td>\n",
       "      <td>16</td>\n",
       "      <td>0</td>\n",
       "      <td>266</td>\n",
       "      <td>82665</td>\n",
       "    </tr>\n",
       "    <tr>\n",
       "      <th>3</th>\n",
       "      <td>9jlras</td>\n",
       "      <td>What could the U.S.A. have spent $1,000,000,00...</td>\n",
       "      <td>6</td>\n",
       "      <td>17</td>\n",
       "      <td>5</td>\n",
       "      <td>271</td>\n",
       "      <td>74998</td>\n",
       "    </tr>\n",
       "    <tr>\n",
       "      <th>4</th>\n",
       "      <td>9fbka2</td>\n",
       "      <td>If a genie grants you the opportunity to ejacu...</td>\n",
       "      <td>16</td>\n",
       "      <td>47</td>\n",
       "      <td>3</td>\n",
       "      <td>255</td>\n",
       "      <td>69915</td>\n",
       "    </tr>\n",
       "  </tbody>\n",
       "</table>\n",
       "</div>"
      ],
      "text/plain": [
       "       id                                              title  hour  minute  \\\n",
       "0  9gx68l  Reddit, how would you feel about a law that ba...    14       1   \n",
       "1  9hef7a  In a video game, if you come across an empty r...     7      17   \n",
       "2  9icx7a  What is a website that everyone should know ab...    19      16   \n",
       "3  9jlras  What could the U.S.A. have spent $1,000,000,00...     6      17   \n",
       "4  9fbka2  If a genie grants you the opportunity to ejacu...    16      47   \n",
       "\n",
       "   dayofweek  dayofyear   score  \n",
       "0          2        261  149070  \n",
       "1          4        263   83296  \n",
       "2          0        266   82665  \n",
       "3          5        271   74998  \n",
       "4          3        255   69915  "
      ]
     },
     "execution_count": 3,
     "metadata": {},
     "output_type": "execute_result"
    }
   ],
   "source": [
    "df.head()"
   ]
  },
  {
   "cell_type": "code",
   "execution_count": 4,
   "metadata": {},
   "outputs": [
    {
     "data": {
      "text/html": [
       "<div>\n",
       "<table border=\"1\" class=\"dataframe\">\n",
       "  <thead>\n",
       "    <tr style=\"text-align: right;\">\n",
       "      <th></th>\n",
       "      <th>hour</th>\n",
       "      <th>minute</th>\n",
       "      <th>dayofweek</th>\n",
       "      <th>dayofyear</th>\n",
       "      <th>score</th>\n",
       "    </tr>\n",
       "  </thead>\n",
       "  <tbody>\n",
       "    <tr>\n",
       "      <th>count</th>\n",
       "      <td>503938.000000</td>\n",
       "      <td>503938.000000</td>\n",
       "      <td>503938.000000</td>\n",
       "      <td>503938.000000</td>\n",
       "      <td>503938.000000</td>\n",
       "    </tr>\n",
       "    <tr>\n",
       "      <th>mean</th>\n",
       "      <td>12.781120</td>\n",
       "      <td>29.562274</td>\n",
       "      <td>2.911717</td>\n",
       "      <td>274.629046</td>\n",
       "      <td>25.797312</td>\n",
       "    </tr>\n",
       "    <tr>\n",
       "      <th>std</th>\n",
       "      <td>6.602338</td>\n",
       "      <td>17.317721</td>\n",
       "      <td>1.969925</td>\n",
       "      <td>17.578185</td>\n",
       "      <td>815.115481</td>\n",
       "    </tr>\n",
       "    <tr>\n",
       "      <th>min</th>\n",
       "      <td>0.000000</td>\n",
       "      <td>0.000000</td>\n",
       "      <td>0.000000</td>\n",
       "      <td>243.000000</td>\n",
       "      <td>0.000000</td>\n",
       "    </tr>\n",
       "    <tr>\n",
       "      <th>25%</th>\n",
       "      <td>8.000000</td>\n",
       "      <td>15.000000</td>\n",
       "      <td>1.000000</td>\n",
       "      <td>260.000000</td>\n",
       "      <td>1.000000</td>\n",
       "    </tr>\n",
       "    <tr>\n",
       "      <th>50%</th>\n",
       "      <td>13.000000</td>\n",
       "      <td>30.000000</td>\n",
       "      <td>3.000000</td>\n",
       "      <td>275.000000</td>\n",
       "      <td>1.000000</td>\n",
       "    </tr>\n",
       "    <tr>\n",
       "      <th>75%</th>\n",
       "      <td>18.000000</td>\n",
       "      <td>45.000000</td>\n",
       "      <td>5.000000</td>\n",
       "      <td>290.000000</td>\n",
       "      <td>3.000000</td>\n",
       "    </tr>\n",
       "    <tr>\n",
       "      <th>max</th>\n",
       "      <td>23.000000</td>\n",
       "      <td>59.000000</td>\n",
       "      <td>6.000000</td>\n",
       "      <td>304.000000</td>\n",
       "      <td>149070.000000</td>\n",
       "    </tr>\n",
       "  </tbody>\n",
       "</table>\n",
       "</div>"
      ],
      "text/plain": [
       "                hour         minute      dayofweek      dayofyear  \\\n",
       "count  503938.000000  503938.000000  503938.000000  503938.000000   \n",
       "mean       12.781120      29.562274       2.911717     274.629046   \n",
       "std         6.602338      17.317721       1.969925      17.578185   \n",
       "min         0.000000       0.000000       0.000000     243.000000   \n",
       "25%         8.000000      15.000000       1.000000     260.000000   \n",
       "50%        13.000000      30.000000       3.000000     275.000000   \n",
       "75%        18.000000      45.000000       5.000000     290.000000   \n",
       "max        23.000000      59.000000       6.000000     304.000000   \n",
       "\n",
       "               score  \n",
       "count  503938.000000  \n",
       "mean       25.797312  \n",
       "std       815.115481  \n",
       "min         0.000000  \n",
       "25%         1.000000  \n",
       "50%         1.000000  \n",
       "75%         3.000000  \n",
       "max    149070.000000  "
      ]
     },
     "execution_count": 4,
     "metadata": {},
     "output_type": "execute_result"
    }
   ],
   "source": [
    "df.describe()"
   ]
  },
  {
   "cell_type": "code",
   "execution_count": 5,
   "metadata": {
    "collapsed": true
   },
   "outputs": [],
   "source": [
    "titles = df['title'].values.tolist()\n",
    "hours = df['hour'].values.tolist()\n",
    "minutes = df['minute'].values.tolist()\n",
    "dayofweeks = df['dayofweek'].values.tolist()\n",
    "dayofyears = df['dayofyear'].values.tolist()\n",
    "is_top_submission = df['score'].values.tolist()\n",
    "split_score = is_top_submission[np.int(len(is_top_submission)/2)]\n",
    "for i in range(0,len(is_top_submission)):\n",
    "  if is_top_submission[i] > split_score:\n",
    "    is_top_submission[i] = 1\n",
    "  else:\n",
    "    is_top_submission[i] = 0\n",
    "\n",
    "titles = np.array(titles)\n",
    "hours = np.array(hours, dtype=int)\n",
    "minutes = np.array(minutes, dtype=int)\n",
    "dayofweeks = np.array(dayofweeks, dtype=int)\n",
    "dayofyears = np.array(dayofyears, dtype=int)\n",
    "is_top_submission = np.array(is_top_submission, dtype=int)"
   ]
  },
  {
   "cell_type": "code",
   "execution_count": 6,
   "metadata": {},
   "outputs": [
    {
     "name": "stdout",
     "output_type": "stream",
     "text": [
      "['Reddit, how would you feel about a law that bans radio stations from playing commercials with honking/beeping/siren noises in them?'\n",
      " 'In a video game, if you come across an empty room with a health pack, extra ammo, and a save point, you know some serious shit is about to go down. What is the real-life equivalent of this?']\n",
      "(503938,)\n",
      "[14  7]\n",
      "[ 1 17]\n",
      "[2 4]\n",
      "[261 263]\n",
      "[1 1]\n"
     ]
    }
   ],
   "source": [
    "print(titles[0:2])\n",
    "print(titles.shape)\n",
    "print(hours[0:2])\n",
    "print(minutes[0:2])\n",
    "print(dayofweeks[0:2])\n",
    "print(dayofyears[0:2])\n",
    "print(is_top_submission[0:2])"
   ]
  },
  {
   "cell_type": "code",
   "execution_count": 7,
   "metadata": {},
   "outputs": [
    {
     "name": "stderr",
     "output_type": "stream",
     "text": [
      "Using TensorFlow backend.\n"
     ]
    },
    {
     "name": "stdout",
     "output_type": "stream",
     "text": [
      "OrderedDict([('reddit', 59327), ('how', 68884), ('would', 58961), ('you', 320628), ('feel', 9795), (\n",
      "{'doulton': 69165, 'rafael': 78052, 'ledge': 27606, 'neden': 63294, 'f150': 36708, 'darkest': 2541, \n",
      "78801\n"
     ]
    }
   ],
   "source": [
    "from keras.preprocessing import sequence\n",
    "from keras.preprocessing.text import text_to_word_sequence, Tokenizer\n",
    "\n",
    "max_features = 40000\n",
    "\n",
    "word_tokenizer = Tokenizer(max_features)\n",
    "word_tokenizer.fit_on_texts(titles)\n",
    "\n",
    "print(str(word_tokenizer.word_counts)[0:100])\n",
    "print(str(word_tokenizer.word_index)[0:100])\n",
    "print(len(word_tokenizer.word_counts))   # true word count"
   ]
  },
  {
   "cell_type": "code",
   "execution_count": 8,
   "metadata": {},
   "outputs": [
    {
     "name": "stdout",
     "output_type": "stream",
     "text": [
      "[18, 15, 19, 1, 95, 33, 5, 472, 12, 4055, 1749, 4425, 46, 621, 2745, 25, 11387, 10732, 11388, 5041, 11, 87]\n"
     ]
    }
   ],
   "source": [
    "titles_tf = word_tokenizer.texts_to_sequences(titles)\n",
    "print(titles_tf[0])"
   ]
  },
  {
   "cell_type": "code",
   "execution_count": 9,
   "metadata": {},
   "outputs": [
    {
     "name": "stdout",
     "output_type": "stream",
     "text": [
      "[   19     1    95    33     5   472    12  4055  1749  4425    46   621\n",
      "  2745    25 11387 10732 11388  5041    11    87]\n"
     ]
    }
   ],
   "source": [
    "maxlen = 20\n",
    "titles_tf = sequence.pad_sequences(titles_tf, maxlen=maxlen)\n",
    "print(titles_tf[0])"
   ]
  },
  {
   "cell_type": "code",
   "execution_count": 10,
   "metadata": {
    "collapsed": true
   },
   "outputs": [],
   "source": [
    "embeddings_path = 'glove.6B.50d.txt'"
   ]
  },
  {
   "cell_type": "code",
   "execution_count": 11,
   "metadata": {},
   "outputs": [
    {
     "name": "stdout",
     "output_type": "stream",
     "text": [
      "[-1.0919e-03  3.3324e-01  3.5743e-01 -5.4041e-01  8.2032e-01 -4.9391e-01\n",
      " -3.2588e-01  1.9972e-03 -2.3829e-01  3.5554e-01 -6.0655e-01  9.8932e-01\n",
      " -2.1786e-01  1.1236e-01  1.1494e+00  7.3284e-01  5.1182e-01  2.9287e-01\n",
      "  2.8388e-01 -1.3590e+00 -3.7951e-01  5.0943e-01  7.0710e-01  6.2941e-01\n",
      "  1.0534e+00 -2.1756e+00 -1.3204e+00  4.0001e-01  1.5741e+00 -1.6600e+00\n",
      "  3.7721e+00  8.6949e-01 -8.0439e-01  1.8390e-01 -3.4332e-01  1.0714e-02\n",
      "  2.3969e-01  6.6748e-02  7.0117e-01 -7.3702e-01  2.0877e-01  1.1564e-01\n",
      " -1.5190e-01  8.5908e-01  2.2620e-01  1.6519e-01  3.6309e-01 -4.5697e-01\n",
      " -4.8969e-02  1.1316e+00]\n"
     ]
    }
   ],
   "source": [
    "embedding_vectors = {}\n",
    "\n",
    "with open(embeddings_path, 'r') as f:\n",
    "    for line in f:\n",
    "        line_split = line.strip().split(\" \")\n",
    "        vec = np.array(line_split[1:], dtype=float)\n",
    "        word = line_split[0]\n",
    "        embedding_vectors[word] = vec\n",
    "        \n",
    "print(embedding_vectors['you'])"
   ]
  },
  {
   "cell_type": "code",
   "execution_count": 12,
   "metadata": {},
   "outputs": [
    {
     "name": "stdout",
     "output_type": "stream",
     "text": [
      "[[ 0.0000e+00  0.0000e+00  0.0000e+00  0.0000e+00  0.0000e+00  0.0000e+00\n",
      "   0.0000e+00  0.0000e+00  0.0000e+00  0.0000e+00  0.0000e+00  0.0000e+00\n",
      "   0.0000e+00  0.0000e+00  0.0000e+00  0.0000e+00  0.0000e+00  0.0000e+00\n",
      "   0.0000e+00  0.0000e+00  0.0000e+00  0.0000e+00  0.0000e+00  0.0000e+00\n",
      "   0.0000e+00  0.0000e+00  0.0000e+00  0.0000e+00  0.0000e+00  0.0000e+00\n",
      "   0.0000e+00  0.0000e+00  0.0000e+00  0.0000e+00  0.0000e+00  0.0000e+00\n",
      "   0.0000e+00  0.0000e+00  0.0000e+00  0.0000e+00  0.0000e+00  0.0000e+00\n",
      "   0.0000e+00  0.0000e+00  0.0000e+00  0.0000e+00  0.0000e+00  0.0000e+00\n",
      "   0.0000e+00  0.0000e+00]\n",
      " [-1.0919e-03  3.3324e-01  3.5743e-01 -5.4041e-01  8.2032e-01 -4.9391e-01\n",
      "  -3.2588e-01  1.9972e-03 -2.3829e-01  3.5554e-01 -6.0655e-01  9.8932e-01\n",
      "  -2.1786e-01  1.1236e-01  1.1494e+00  7.3284e-01  5.1182e-01  2.9287e-01\n",
      "   2.8388e-01 -1.3590e+00 -3.7951e-01  5.0943e-01  7.0710e-01  6.2941e-01\n",
      "   1.0534e+00 -2.1756e+00 -1.3204e+00  4.0001e-01  1.5741e+00 -1.6600e+00\n",
      "   3.7721e+00  8.6949e-01 -8.0439e-01  1.8390e-01 -3.4332e-01  1.0714e-02\n",
      "   2.3969e-01  6.6748e-02  7.0117e-01 -7.3702e-01  2.0877e-01  1.1564e-01\n",
      "  -1.5190e-01  8.5908e-01  2.2620e-01  1.6519e-01  3.6309e-01 -4.5697e-01\n",
      "  -4.8969e-02  1.1316e+00]]\n"
     ]
    }
   ],
   "source": [
    "weights_matrix = np.zeros((max_features + 1, 50))\n",
    "\n",
    "for word, i in word_tokenizer.word_index.items():\n",
    "\n",
    "    embedding_vector = embedding_vectors.get(word)\n",
    "    if embedding_vector is not None and i <= max_features:\n",
    "        weights_matrix[i] = embedding_vector\n",
    "\n",
    "# index 0 vector should be all zeroes, index 1 vector should be the same one as above\n",
    "print(weights_matrix[0:2,:])"
   ]
  },
  {
   "cell_type": "code",
   "execution_count": 13,
   "metadata": {},
   "outputs": [
    {
     "name": "stdout",
     "output_type": "stream",
     "text": [
      "[261 263 266 271 255 300 274 258 271 295]\n"
     ]
    }
   ],
   "source": [
    "dayofyears_tf = dayofyears\n",
    "print(dayofyears_tf[0:10])"
   ]
  },
  {
   "cell_type": "code",
   "execution_count": 14,
   "metadata": {
    "collapsed": true
   },
   "outputs": [],
   "source": [
    "from keras.models import Input, Model\n",
    "from keras.layers import Dense, Embedding, GlobalAveragePooling1D, concatenate, Activation\n",
    "from keras.layers.core import Masking, Dropout, Reshape\n",
    "from keras.layers.normalization import BatchNormalization\n",
    "\n",
    "batch_size = 32\n",
    "embedding_dims = 50\n",
    "epochs = 20\n",
    "dropout_rate = 0.2"
   ]
  },
  {
   "cell_type": "code",
   "execution_count": 29,
   "metadata": {
    "collapsed": true
   },
   "outputs": [],
   "source": [
    "titles_input = Input(shape=(maxlen,), name='titles_input')\n",
    "titles_embedding = Embedding(max_features + 1, embedding_dims, weights=[weights_matrix])(titles_input)\n",
    "titles_pooling = GlobalAveragePooling1D()(titles_embedding)\n",
    "titles_dropout = Dropout(dropout_rate)(titles_pooling)"
   ]
  },
  {
   "cell_type": "code",
   "execution_count": 30,
   "metadata": {
    "collapsed": true
   },
   "outputs": [],
   "source": [
    "aux_output = Dense(1, activation='sigmoid', name='aux_out')(titles_dropout)"
   ]
  },
  {
   "cell_type": "code",
   "execution_count": 31,
   "metadata": {
    "collapsed": true
   },
   "outputs": [],
   "source": [
    "meta_embedding_dims = 64\n",
    "\n",
    "hours_input = Input(shape=(1,), name='hours_input')\n",
    "hours_embedding = Embedding(24, meta_embedding_dims)(hours_input)\n",
    "hours_reshape = Reshape((meta_embedding_dims,))(hours_embedding)\n",
    "\n",
    "dayofweeks_input = Input(shape=(1,), name='dayofweeks_input')\n",
    "dayofweeks_embedding = Embedding(7, meta_embedding_dims)(dayofweeks_input)\n",
    "dayofweeks_reshape = Reshape((meta_embedding_dims,))(dayofweeks_embedding)\n",
    "\n",
    "minutes_input = Input(shape=(1,), name='minutes_input')\n",
    "minutes_embedding = Embedding(60, meta_embedding_dims)(minutes_input)\n",
    "minutes_reshape = Reshape((meta_embedding_dims,))(minutes_embedding)\n",
    "\n",
    "dayofyears_input = Input(shape=(1,), name='dayofyears_input')\n",
    "dayofyears_embedding = Embedding(366, meta_embedding_dims)(dayofyears_input)\n",
    "dayofyears_reshape = Reshape((meta_embedding_dims,))(dayofyears_embedding)\n"
   ]
  },
  {
   "cell_type": "code",
   "execution_count": 32,
   "metadata": {
    "collapsed": true
   },
   "outputs": [],
   "source": [
    "merged = concatenate([titles_dropout, hours_reshape, dayofweeks_reshape, minutes_reshape, dayofyears_reshape])\n",
    "\n",
    "hidden_1 = Dense(256, activation='relu')(merged)\n",
    "hidden_1 = BatchNormalization()(hidden_1)\n",
    "\n",
    "main_output = Dense(1, activation='sigmoid', name='main_out')(hidden_1)"
   ]
  },
  {
   "cell_type": "code",
   "execution_count": 33,
   "metadata": {},
   "outputs": [
    {
     "name": "stdout",
     "output_type": "stream",
     "text": [
      "__________________________________________________________________________________________________\n",
      "Layer (type)                    Output Shape         Param #     Connected to                     \n",
      "==================================================================================================\n",
      "titles_input (InputLayer)       (None, 20)           0                                            \n",
      "__________________________________________________________________________________________________\n",
      "hours_input (InputLayer)        (None, 1)            0                                            \n",
      "__________________________________________________________________________________________________\n",
      "dayofweeks_input (InputLayer)   (None, 1)            0                                            \n",
      "__________________________________________________________________________________________________\n",
      "minutes_input (InputLayer)      (None, 1)            0                                            \n",
      "__________________________________________________________________________________________________\n",
      "dayofyears_input (InputLayer)   (None, 1)            0                                            \n",
      "__________________________________________________________________________________________________\n",
      "embedding_6 (Embedding)         (None, 20, 50)       2000050     titles_input[0][0]               \n",
      "__________________________________________________________________________________________________\n",
      "embedding_7 (Embedding)         (None, 1, 64)        1536        hours_input[0][0]                \n",
      "__________________________________________________________________________________________________\n",
      "embedding_8 (Embedding)         (None, 1, 64)        448         dayofweeks_input[0][0]           \n",
      "__________________________________________________________________________________________________\n",
      "embedding_9 (Embedding)         (None, 1, 64)        3840        minutes_input[0][0]              \n",
      "__________________________________________________________________________________________________\n",
      "embedding_10 (Embedding)        (None, 1, 64)        23424       dayofyears_input[0][0]           \n",
      "__________________________________________________________________________________________________\n",
      "global_average_pooling1d_2 (Glo (None, 50)           0           embedding_6[0][0]                \n",
      "__________________________________________________________________________________________________\n",
      "reshape_5 (Reshape)             (None, 64)           0           embedding_7[0][0]                \n",
      "__________________________________________________________________________________________________\n",
      "reshape_6 (Reshape)             (None, 64)           0           embedding_8[0][0]                \n",
      "__________________________________________________________________________________________________\n",
      "reshape_7 (Reshape)             (None, 64)           0           embedding_9[0][0]                \n",
      "__________________________________________________________________________________________________\n",
      "reshape_8 (Reshape)             (None, 64)           0           embedding_10[0][0]               \n",
      "__________________________________________________________________________________________________\n",
      "concatenate_2 (Concatenate)     (None, 306)          0           global_average_pooling1d_2[0][0] \n",
      "                                                                 reshape_5[0][0]                  \n",
      "                                                                 reshape_6[0][0]                  \n",
      "                                                                 reshape_7[0][0]                  \n",
      "                                                                 reshape_8[0][0]                  \n",
      "__________________________________________________________________________________________________\n",
      "dense_2 (Dense)                 (None, 256)          78592       concatenate_2[0][0]              \n",
      "__________________________________________________________________________________________________\n",
      "batch_normalization_2 (BatchNor (None, 256)          1024        dense_2[0][0]                    \n",
      "__________________________________________________________________________________________________\n",
      "main_out (Dense)                (None, 1)            257         batch_normalization_2[0][0]      \n",
      "__________________________________________________________________________________________________\n",
      "aux_out (Dense)                 (None, 1)            51          global_average_pooling1d_2[0][0] \n",
      "==================================================================================================\n",
      "Total params: 2,109,222\n",
      "Trainable params: 2,108,710\n",
      "Non-trainable params: 512\n",
      "__________________________________________________________________________________________________\n"
     ]
    }
   ],
   "source": [
    "model = Model(inputs=[titles_input,\n",
    "                      hours_input,\n",
    "                      dayofweeks_input,\n",
    "                      minutes_input,\n",
    "                      dayofyears_input], outputs=[main_output, aux_output])\n",
    "\n",
    "model.compile(loss='binary_crossentropy',\n",
    "              optimizer='adam',\n",
    "              metrics=['accuracy'],\n",
    "              loss_weights=[1, 0.2])\n",
    "\n",
    "model.summary()"
   ]
  },
  {
   "cell_type": "code",
   "execution_count": 34,
   "metadata": {
    "collapsed": true
   },
   "outputs": [],
   "source": [
    "seed(123)\n",
    "split = 0.2\n",
    "\n",
    "# returns randomized indices with no repeats\n",
    "idx = sample(range(titles_tf.shape[0]), titles_tf.shape[0])\n"
   ]
  },
  {
   "cell_type": "code",
   "execution_count": 35,
   "metadata": {
    "collapsed": true
   },
   "outputs": [],
   "source": [
    "titles_tf = titles_tf[idx, :]\n",
    "hours = hours[idx]\n",
    "dayofweeks = dayofweeks[idx]\n",
    "minutes = minutes[idx]\n",
    "dayofyears_tf = dayofyears_tf[idx]\n",
    "is_top_submission = is_top_submission[idx]"
   ]
  },
  {
   "cell_type": "code",
   "execution_count": 36,
   "metadata": {},
   "outputs": [
    {
     "name": "stdout",
     "output_type": "stream",
     "text": [
      "0.5857005367755762\n"
     ]
    }
   ],
   "source": [
    "print(1 - np.mean(is_top_submission[:(int(titles_tf.shape[0] * split))]))"
   ]
  },
  {
   "cell_type": "code",
   "execution_count": 37,
   "metadata": {
    "collapsed": true
   },
   "outputs": [],
   "source": [
    "from keras.callbacks import CSVLogger,EarlyStopping\n",
    "\n",
    "csv_logger = CSVLogger('training.csv')"
   ]
  },
  {
   "cell_type": "code",
   "execution_count": 38,
   "metadata": {},
   "outputs": [
    {
     "name": "stdout",
     "output_type": "stream",
     "text": [
      "Train on 403150 samples, validate on 100788 samples\n",
      "Epoch 1/20\n",
      "403150/403150 [==============================] - 134s 332us/step - loss: 0.7225 - main_out_loss: 0.5997 - aux_out_loss: 0.6142 - main_out_acc: 0.6470 - aux_out_acc: 0.6367 - val_loss: 0.7042 - val_main_out_loss: 0.5843 - val_aux_out_loss: 0.5992 - val_main_out_acc: 0.6600 - val_aux_out_acc: 0.6553\n",
      "Epoch 2/20\n",
      "403150/403150 [==============================] - 132s 327us/step - loss: 0.6923 - main_out_loss: 0.5747 - aux_out_loss: 0.5883 - main_out_acc: 0.6695 - aux_out_acc: 0.6636 - val_loss: 0.6985 - val_main_out_loss: 0.5789 - val_aux_out_loss: 0.5981 - val_main_out_acc: 0.6641 - val_aux_out_acc: 0.6581\n",
      "Epoch 3/20\n",
      "403150/403150 [==============================] - 133s 330us/step - loss: 0.6807 - main_out_loss: 0.5644 - aux_out_loss: 0.5814 - main_out_acc: 0.6788 - aux_out_acc: 0.6724 - val_loss: 0.6989 - val_main_out_loss: 0.5791 - val_aux_out_loss: 0.5993 - val_main_out_acc: 0.6646 - val_aux_out_acc: 0.6547\n",
      "Epoch 4/20\n",
      "403150/403150 [==============================] - 131s 326us/step - loss: 0.6724 - main_out_loss: 0.5570 - aux_out_loss: 0.5769 - main_out_acc: 0.6860 - aux_out_acc: 0.6782 - val_loss: 0.7011 - val_main_out_loss: 0.5809 - val_aux_out_loss: 0.6011 - val_main_out_acc: 0.6639 - val_aux_out_acc: 0.6592\n",
      "Epoch 5/20\n",
      "403150/403150 [==============================] - 133s 330us/step - loss: 0.6653 - main_out_loss: 0.5506 - aux_out_loss: 0.5737 - main_out_acc: 0.6915 - aux_out_acc: 0.6813 - val_loss: 0.7023 - val_main_out_loss: 0.5817 - val_aux_out_loss: 0.6032 - val_main_out_acc: 0.6623 - val_aux_out_acc: 0.6566\n",
      "Epoch 6/20\n",
      "403150/403150 [==============================] - 132s 327us/step - loss: 0.6599 - main_out_loss: 0.5456 - aux_out_loss: 0.5712 - main_out_acc: 0.6958 - aux_out_acc: 0.6846 - val_loss: 0.7065 - val_main_out_loss: 0.5856 - val_aux_out_loss: 0.6043 - val_main_out_acc: 0.6604 - val_aux_out_acc: 0.6547\n",
      "Epoch 7/20\n",
      "403150/403150 [==============================] - 130s 323us/step - loss: 0.6543 - main_out_loss: 0.5405 - aux_out_loss: 0.5691 - main_out_acc: 0.6999 - aux_out_acc: 0.6862 - val_loss: 0.7087 - val_main_out_loss: 0.5872 - val_aux_out_loss: 0.6072 - val_main_out_acc: 0.6598 - val_aux_out_acc: 0.6567\n",
      "Epoch 8/20\n",
      "403150/403150 [==============================] - 129s 319us/step - loss: 0.6489 - main_out_loss: 0.5354 - aux_out_loss: 0.5674 - main_out_acc: 0.7042 - aux_out_acc: 0.6877 - val_loss: 0.7096 - val_main_out_loss: 0.5881 - val_aux_out_loss: 0.6077 - val_main_out_acc: 0.6602 - val_aux_out_acc: 0.6544\n",
      "Epoch 9/20\n",
      "403150/403150 [==============================] - 128s 317us/step - loss: 0.6444 - main_out_loss: 0.5312 - aux_out_loss: 0.5659 - main_out_acc: 0.7070 - aux_out_acc: 0.6889 - val_loss: 0.7152 - val_main_out_loss: 0.5933 - val_aux_out_loss: 0.6094 - val_main_out_acc: 0.6591 - val_aux_out_acc: 0.6556\n",
      "Epoch 10/20\n",
      "403150/403150 [==============================] - 130s 323us/step - loss: 0.6390 - main_out_loss: 0.5261 - aux_out_loss: 0.5645 - main_out_acc: 0.7108 - aux_out_acc: 0.6906 - val_loss: 0.7206 - val_main_out_loss: 0.5986 - val_aux_out_loss: 0.6100 - val_main_out_acc: 0.6583 - val_aux_out_acc: 0.6569\n",
      "Epoch 11/20\n",
      "403150/403150 [==============================] - 129s 321us/step - loss: 0.6343 - main_out_loss: 0.5216 - aux_out_loss: 0.5635 - main_out_acc: 0.7145 - aux_out_acc: 0.6910 - val_loss: 0.7211 - val_main_out_loss: 0.5991 - val_aux_out_loss: 0.6100 - val_main_out_acc: 0.6566 - val_aux_out_acc: 0.6554\n",
      "Epoch 12/20\n",
      "403150/403150 [==============================] - 130s 322us/step - loss: 0.6290 - main_out_loss: 0.5166 - aux_out_loss: 0.5624 - main_out_acc: 0.7186 - aux_out_acc: 0.6920 - val_loss: 0.7274 - val_main_out_loss: 0.6051 - val_aux_out_loss: 0.6113 - val_main_out_acc: 0.6517 - val_aux_out_acc: 0.6559\n",
      "Epoch 13/20\n",
      "403150/403150 [==============================] - 129s 320us/step - loss: 0.6228 - main_out_loss: 0.5105 - aux_out_loss: 0.5614 - main_out_acc: 0.7237 - aux_out_acc: 0.6928 - val_loss: 0.7339 - val_main_out_loss: 0.6114 - val_aux_out_loss: 0.6129 - val_main_out_acc: 0.6521 - val_aux_out_acc: 0.6530\n",
      "Epoch 14/20\n",
      "403150/403150 [==============================] - 128s 317us/step - loss: 0.6179 - main_out_loss: 0.5058 - aux_out_loss: 0.5606 - main_out_acc: 0.7269 - aux_out_acc: 0.6937 - val_loss: 0.7354 - val_main_out_loss: 0.6126 - val_aux_out_loss: 0.6142 - val_main_out_acc: 0.6523 - val_aux_out_acc: 0.6545\n",
      "Epoch 15/20\n",
      "403150/403150 [==============================] - 129s 320us/step - loss: 0.6121 - main_out_loss: 0.5002 - aux_out_loss: 0.5599 - main_out_acc: 0.7318 - aux_out_acc: 0.6941 - val_loss: 0.7449 - val_main_out_loss: 0.6222 - val_aux_out_loss: 0.6139 - val_main_out_acc: 0.6463 - val_aux_out_acc: 0.6543\n",
      "Epoch 16/20\n",
      "403150/403150 [==============================] - 129s 319us/step - loss: 0.6060 - main_out_loss: 0.4942 - aux_out_loss: 0.5591 - main_out_acc: 0.7369 - aux_out_acc: 0.6957 - val_loss: 0.7486 - val_main_out_loss: 0.6255 - val_aux_out_loss: 0.6152 - val_main_out_acc: 0.6475 - val_aux_out_acc: 0.6550\n",
      "Epoch 17/20\n",
      "403150/403150 [==============================] - 130s 322us/step - loss: 0.6004 - main_out_loss: 0.4887 - aux_out_loss: 0.5584 - main_out_acc: 0.7407 - aux_out_acc: 0.6960 - val_loss: 0.7616 - val_main_out_loss: 0.6384 - val_aux_out_loss: 0.6163 - val_main_out_acc: 0.6497 - val_aux_out_acc: 0.6539\n",
      "Epoch 18/20\n",
      "403150/403150 [==============================] - 129s 320us/step - loss: 0.5941 - main_out_loss: 0.4825 - aux_out_loss: 0.5578 - main_out_acc: 0.7457 - aux_out_acc: 0.6966 - val_loss: 0.7588 - val_main_out_loss: 0.6356 - val_aux_out_loss: 0.6159 - val_main_out_acc: 0.6433 - val_aux_out_acc: 0.6521\n",
      "Epoch 19/20\n",
      "403150/403150 [==============================] - 130s 323us/step - loss: 0.5882 - main_out_loss: 0.4768 - aux_out_loss: 0.5572 - main_out_acc: 0.7497 - aux_out_acc: 0.6972 - val_loss: 0.7698 - val_main_out_loss: 0.6466 - val_aux_out_loss: 0.6161 - val_main_out_acc: 0.6479 - val_aux_out_acc: 0.6533\n",
      "Epoch 20/20\n",
      "403150/403150 [==============================] - 129s 320us/step - loss: 0.5823 - main_out_loss: 0.4709 - aux_out_loss: 0.5567 - main_out_acc: 0.7545 - aux_out_acc: 0.6973 - val_loss: 0.7863 - val_main_out_loss: 0.6626 - val_aux_out_loss: 0.6185 - val_main_out_acc: 0.6467 - val_aux_out_acc: 0.6533\n"
     ]
    },
    {
     "data": {
      "text/plain": [
       "<keras.callbacks.History at 0x7f8c460934e0>"
      ]
     },
     "execution_count": 38,
     "metadata": {},
     "output_type": "execute_result"
    }
   ],
   "source": [
    "model.fit([titles_tf, hours, dayofweeks, minutes, dayofyears_tf], [is_top_submission, is_top_submission],\n",
    "          batch_size=batch_size,\n",
    "          epochs=epochs,\n",
    "          validation_split=split, callbacks=[csv_logger])"
   ]
  },
  {
   "cell_type": "code",
   "execution_count": null,
   "metadata": {
    "collapsed": true
   },
   "outputs": [],
   "source": []
  }
 ],
 "metadata": {
  "kernelspec": {
   "display_name": "Python 3",
   "language": "python",
   "name": "python3"
  },
  "language_info": {
   "codemirror_mode": {
    "name": "ipython",
    "version": 3
   },
   "file_extension": ".py",
   "mimetype": "text/x-python",
   "name": "python",
   "nbconvert_exporter": "python",
   "pygments_lexer": "ipython3",
   "version": "3.6.4"
  }
 },
 "nbformat": 4,
 "nbformat_minor": 2
}
